{
 "cells": [
  {
   "cell_type": "code",
   "execution_count": null,
   "id": "b49ff9a0",
   "metadata": {},
   "outputs": [],
   "source": [
    "from IPython.display import Image\n",
    "Image(filename='imagenes/GEE.png', width=336, height=48)"
   ]
  },
  {
   "cell_type": "markdown",
   "id": "57bda20b",
   "metadata": {},
   "source": [
    "# Bienvenido!\n",
    "\n",
    "El objetivo de este libro digital es impulsar el desarrollo de capacidades sobre cómo emplear tecnicas de geoIA con información geoespacial, principalmente empleando imágenes satelitales disponibles en Google Earth Engine.\n",
    "\n",
    "Este libro interactivo digital está siendo desarrollado con [Jupyter Book documentation](https://jupyterbook.org) y tendrá ISBN tramitado por parte de IDERA."
   ]
  }
 ],
 "metadata": {
  "jupytext": {
   "text_representation": {
    "extension": ".md",
    "format_name": "myst"
   }
  },
  "kernelspec": {
   "display_name": "Python 3",
   "language": "python",
   "name": "python3"
  },
  "source_map": [
   12,
   15
  ]
 },
 "nbformat": 4,
 "nbformat_minor": 5
}