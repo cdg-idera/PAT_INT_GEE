{
 "cells": [
  {
   "cell_type": "code",
   "execution_count": null,
   "id": "d11bc08d",
   "metadata": {},
   "outputs": [],
   "source": []
  },
  {
   "cell_type": "markdown",
   "id": "8e88dd1a",
   "metadata": {},
   "source": [
    "# Prueba folium\n"
   ]
  },
  {
   "cell_type": "code",
   "execution_count": null,
   "id": "6862a352",
   "metadata": {},
   "outputs": [],
   "source": [
    "# Instala lo que falta sólo si no está\n",
    "import importlib, sys, subprocess\n",
    "\n",
    "def ensure(pkg):\n",
    "    if importlib.util.find_spec(pkg) is None:\n",
    "        subprocess.check_call([sys.executable, \"-m\", \"pip\", \"install\", pkg])\n",
    "\n",
    "for pkg in [\"folium\", \"geemap\", \"earthengine-api\"]:\n",
    "    ensure(pkg)\n",
    "\n",
    "import folium  # prueba\n",
    "\n"
   ]
  },
  {
   "cell_type": "code",
   "execution_count": null,
   "id": "45a2b533",
   "metadata": {},
   "outputs": [],
   "source": [
    "import folium\n",
    "from IPython.display import display, HTML\n",
    "\n",
    "m = folium.Map(location=[-32.95, -60.65], zoom_start=11)\n",
    "display(m)"
   ]
  }
 ],
 "metadata": {
  "language_info": {
   "name": "python"
  }
 },
 "nbformat": 4,
 "nbformat_minor": 5
}
