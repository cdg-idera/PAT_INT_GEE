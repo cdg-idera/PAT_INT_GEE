{
 "cells": [
  {
   "cell_type": "markdown",
   "metadata": {},
   "source": [
    "# Lab 002 · Random Forest (Rosario) — Folium / Thebe\n",
    "\n",
    "Este cuaderno usa **geemap.foliumap** (no widgets) para que los mapas se vean en Thebe/Binder."
   ]
  },
  {
   "cell_type": "code",
   "execution_count": null,
   "metadata": {},
   "outputs": [],
   "source": [
    "# === Celda 0: asegurar paquetes y forzar backend folium ===\n",
    "import importlib, sys, subprocess\n",
    "def ensure(pkgs):\n",
    "    miss = [p for p in pkgs if importlib.util.find_spec(p) is None]\n",
    "    if miss:\n",
    "        subprocess.check_call([sys.executable, \"-m\", \"pip\", \"install\", *miss])\n",
    "ensure([\"earthengine-api\", \"geemap\", \"folium\"])\n",
    "\n",
    "# Limpiar módulos previos de geemap (por si quedó el backend de widgets cargado)\n",
    "for _m in list(sys.modules):\n",
    "    if _m.startswith(\"geemap\"):\n",
    "        del sys.modules[_m]\n",
    "\n",
    "import ee\n",
    "import importlib as _imp\n",
    "geemap = _imp.import_module(\"geemap.foliumap\")  # <<-- backend folium SIEMPRE\n",
    "from IPython.display import display\n",
    "print(\"geemap backend:\", geemap.__name__)\n"
   ]
  },
  {
   "cell_type": "code",
   "execution_count": null,
   "id": "b088ff1a",
   "metadata": {},
   "outputs": [],
   "source": [
    "import importlib\n",
    "print(\"ee:\", bool(importlib.util.find_spec(\"ee\")))\n",
    "print(\"geemap.foliumap:\", bool(importlib.util.find_spec(\"geemap.foliumap\")))\n",
    "print(\"folium:\", bool(importlib.util.find_spec(\"folium\")))"
   ]
  },
  {
   "cell_type": "code",
   "execution_count": null,
   "metadata": {},
   "outputs": [],
   "source": [
    "# === Celda 1: Autenticación / Inicialización de Earth Engine ===\n",
    "\n",
    "# === Celda 1: Imports + inicialización de Earth Engine (autónoma) ===\n",
    "import ee\n",
    "import geemap.foliumap as geemap   # SIEMPRE este backend (no widgets)\n",
    "from IPython.display import display\n",
    "\n",
    "print(\"geemap backend:\", geemap.__name__)  # Debe decir geemap.foliumap\n",
    "\n",
    "try:\n",
    "    ee.Initialize(project=\"ee-cdgidera\")\n",
    "    print(\"EE inicializado.\")\n",
    "except Exception as e:\n",
    "    print(\"Autenticación requerida. Seguí el enlace, pegá el código y re-ejecutá esta celda.\")\n",
    "    ee.Authenticate()\n",
    "    ee.Initialize(project=\"ee-cdgidera\")\n"
   ]
  },
  {
   "cell_type": "code",
   "execution_count": null,
   "metadata": {},
   "outputs": [],
   "source": [
    "# === Celda 2: Cargar assets (ROI y GCPS) ===\n",
    "roi_fc = ee.FeatureCollection('users/cdg-idera/roi_polygon_2024')\n",
    "roi = roi_fc.geometry()\n",
    "gcps_fc = ee.FeatureCollection('users/cdg-idera/gcps_landcover_2024')\n",
    "print('ROI features:', roi_fc.size().getInfo())\n",
    "print('GCPS features:', gcps_fc.size().getInfo())\n"
   ]
  },
  {
   "cell_type": "code",
   "execution_count": null,
   "metadata": {},
   "outputs": [],
   "source": [
    "# === Celda 3: Sentinel-2: filtro -> composite (mediana) ===\n",
    "s2 = ee.ImageCollection(\"COPERNICUS/S2_SR_HARMONIZED\")\n",
    "filtered = (s2\n",
    "    .filter(ee.Filter.lt('CLOUDY_PIXEL_PERCENTAGE', 30))\n",
    "    .filterDate('2024-01-01', '2025-01-01')\n",
    "    .filterBounds(roi)\n",
    "    .select('B.*')\n",
    ")\n",
    "composite = filtered.median().clip(roi)\n",
    "rgbVisParams = {'min': 0, 'max': 3000, 'bands': ['B4','B3','B2']}\n",
    "\n",
    "Map = geemap.Map()              # backend folium\n",
    "Map.centerObject(roi, 10)\n",
    "Map.addLayer(composite, rgbVisParams, 'Composite S2 2024 (ROI)')\n",
    "display(Map)\n"
   ]
  },
  {
   "cell_type": "code",
   "execution_count": null,
   "metadata": {},
   "outputs": [],
   "source": [
    "# === Celda 4: Partición 60/40 train/valid ===\n",
    "gcp = gcps_fc.randomColumn()\n",
    "trainingGCP = gcp.filter(ee.Filter.lt('random', 0.6))\n",
    "validationGCP = gcp.filter(ee.Filter.gte('random', 0.6))\n",
    "print('Train pts:', trainingGCP.size().getInfo(), '| Valid pts:', validationGCP.size().getInfo())\n"
   ]
  },
  {
   "cell_type": "code",
   "execution_count": null,
   "metadata": {},
   "outputs": [],
   "source": [
    "# === Celda 5: Sampleo de pixeles para entrenamiento (FIX PYTHON) ===\n",
    "training = composite.sampleRegions(\n",
    "    collection=trainingGCP,\n",
    "    properties=['landcover'],\n",
    "    scale=10,\n",
    "    tileScale=16\n",
    ")\n",
    "print('Training samples:', training.size().getInfo())"
   ]
  },
  {
   "cell_type": "code",
   "execution_count": null,
   "metadata": {},
   "outputs": [],
   "source": [
    "# === Celda 6: Entrenamiento del clasificador (Random Forest) ===\n",
    "classifier = ee.Classifier.smileRandomForest(100).train(\n",
    "    features=training,\n",
    "    classProperty='landcover',\n",
    "    inputProperties=composite.bandNames()\n",
    ")\n",
    "print('Clasificador entrenado.')\n"
   ]
  },
  {
   "cell_type": "code",
   "execution_count": null,
   "metadata": {},
   "outputs": [],
   "source": [
    "# === Celda 7: Clasificar e imagen clasificada ===\n",
    "classified = composite.classify(classifier)\n",
    "classVis = {'min': 0, 'max': 4, 'palette': ['blue', 'gray', 'green', 'violet', 'orange']}\n",
    "\n",
    "Map2 = geemap.Map()\n",
    "Map2.centerObject(roi, 10)\n",
    "Map2.addLayer(classified.clip(roi), classVis, 'Imagen Clasificada')\n",
    "display(Map2)\n"
   ]
  },
  {
   "cell_type": "code",
   "execution_count": null,
   "metadata": {},
   "outputs": [],
   "source": [
    "# === Celda 8: Evaluación de exactitud ===\n",
    "# === Test set / evaluación (FIX PYTHON) ===\n",
    "test = classified.sampleRegions(\n",
    "    collection=validationGCP,\n",
    "    properties=['landcover'],\n",
    "    scale=10\n",
    ")\n",
    "cm = test.errorMatrix('landcover', 'classification')\n",
    "print(\"Confusion Matrix:\\n\", cm.getInfo())\n",
    "print(\"Overall Accuracy:\", cm.accuracy().getInfo())\n",
    "print(\"Producers Accuracy:\", cm.producersAccuracy().getInfo())\n",
    "print(\"Consumers Accuracy:\", cm.consumersAccuracy().getInfo())\n",
    "print(\"Kappa:\", cm.kappa().getInfo())\n",
    "print(\"F1 (class 1):\", cm.fscore(1).getInfo())\n",
    "\n"
   ]
  }
 ],
 "metadata": {
  "kernelspec": {
   "display_name": "Python 3",
   "language": "python",
   "name": "python3"
  },
  "language_info": {
   "codemirror_mode": {
    "name": "ipython",
    "version": 3
   },
   "name": "python",
   "pygments_lexer": "ipython3"
  }
 },
 "nbformat": 4,
 "nbformat_minor": 5
}
